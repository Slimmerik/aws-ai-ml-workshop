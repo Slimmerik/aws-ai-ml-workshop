{
 "cells": [
  {
   "cell_type": "markdown",
   "metadata": {},
   "source": [
    "# Create basic chat bot\n",
    "\n",
    "This notebook creates the basic chatbot which can be used to get movie recommendation. It is not yet hooked up to the lambda function."
   ]
  },
  {
   "cell_type": "code",
   "execution_count": null,
   "metadata": {},
   "outputs": [],
   "source": [
    "import boto3, os\n",
    "import pandas as pd\n",
    "import json\n",
    "os.environ['AWS_DEFAULT_REGION']=\"us-east-1\"\n",
    "client = boto3.client('lex-models')"
   ]
  },
  {
   "cell_type": "markdown",
   "metadata": {},
   "source": [
    "## Prepare slot values from dataset"
   ]
  },
  {
   "cell_type": "code",
   "execution_count": null,
   "metadata": {},
   "outputs": [],
   "source": [
    "movies = pd.read_csv('./movies.csv',  names=['ITEM_ID','title','genre'], engine= 'python', header = 0)\n",
    "movies.head()"
   ]
  },
  {
   "cell_type": "code",
   "execution_count": null,
   "metadata": {},
   "outputs": [],
   "source": [
    "import re\n",
    "\n",
    "def split_it(title):\n",
    "    p = re.compile('(.*)(\\(\\d\\d\\d\\d\\))')\n",
    "    if p.search(title):\n",
    "        return p.search(title).group(1)\n",
    "    else: \n",
    "        return title\n",
    "\n",
    "titles =movies['title'].apply(split_it).unique()"
   ]
  },
  {
   "cell_type": "code",
   "execution_count": null,
   "metadata": {},
   "outputs": [],
   "source": [
    "slot_value_list = []\n",
    "\n",
    "for val in titles[:3000].tolist():\n",
    "    data = {}\n",
    "    data['value'] = val\n",
    "    slot_value_list.append(data)\n",
    "\n"
   ]
  },
  {
   "cell_type": "markdown",
   "metadata": {},
   "source": [
    "## Create slot type for watched movies"
   ]
  },
  {
   "cell_type": "code",
   "execution_count": null,
   "metadata": {},
   "outputs": [],
   "source": [
    "#checksum = client.get_slot_type(name='watchedMovie', version='$LATEST')['checksum']\n",
    "response = client.put_slot_type(\n",
    "    name='watchedMovie',\n",
    "    description='A movie which the user has already watched',\n",
    "    valueSelectionStrategy='ORIGINAL_VALUE',\n",
    "    enumerationValues=slot_value_list,\n",
    "    createVersion=False\n",
    ")"
   ]
  },
  {
   "cell_type": "markdown",
   "metadata": {},
   "source": [
    "## Create movie recommendation intent"
   ]
  },
  {
   "cell_type": "code",
   "execution_count": null,
   "metadata": {},
   "outputs": [],
   "source": [
    "\n",
    "response = client.put_intent(\n",
    "    name='RecommendMovieIntent',\n",
    "    description='This intent allows to get movie recommendations',\n",
    "    slots=[\n",
    "        {\n",
    "            'name': 'watchedMovie',\n",
    "            'description': 'A movie that the user already watched',\n",
    "            'slotConstraint': 'Required',\n",
    "            'slotType': 'watchedMovie',\n",
    "            'slotTypeVersion': '$LATEST',\n",
    "            'valueElicitationPrompt': {\n",
    "                'messages': [\n",
    "                    {\n",
    "                        'contentType': 'PlainText',\n",
    "                        'content': 'To make a good recommendation. Tell me a movie which you really liked!'\n",
    "                    },\n",
    "                ],\n",
    "                'maxAttempts': 3\n",
    "            },\n",
    "            'priority': 1\n",
    "        },\n",
    "    ],\n",
    "    sampleUtterances=[\n",
    "        'Can you recommend me a movie','Can you recommend me a movie that is similar to {watchedMovie}', 'Which movie should i watch', 'Which movie should i see', 'What is a great movie', \"Tell me a great movie similar to {watchedMovie}\"\n",
    "    ],\n",
    "    confirmationPrompt={\n",
    "        'messages': [\n",
    "            {\n",
    "                'contentType': 'PlainText',\n",
    "                'content': 'Do you want a movie similar to {watchedMovie}'\n",
    "\n",
    "            }\n",
    "        ],\n",
    "        'maxAttempts': 1\n",
    "    },\n",
    "    rejectionStatement={\n",
    "        'messages': [\n",
    "            {\n",
    "                'contentType': 'PlainText',\n",
    "                'content': 'Okay, not recommending you a movie!'\n",
    "\n",
    "            },\n",
    "        ],\n",
    "        'responseCard': 'string'\n",
    "    },\n",
    "    fulfillmentActivity={\n",
    "        'type': 'ReturnIntent'        \n",
    "    },\n",
    "        createVersion=False\n",
    ")"
   ]
  },
  {
   "cell_type": "markdown",
   "metadata": {},
   "source": [
    "## Create the chatbot"
   ]
  },
  {
   "cell_type": "code",
   "execution_count": null,
   "metadata": {},
   "outputs": [],
   "source": [
    "response = client.put_bot(\n",
    "    name='MovieRecommender',\n",
    "    description='This bot provides movie recommendations based movies you have seen',\n",
    "    intents=[\n",
    "        {\n",
    "            'intentName': 'RecommendMovieIntent',\n",
    "            'intentVersion': '$LATEST'\n",
    "        },\n",
    "    ],\n",
    "    clarificationPrompt={\n",
    "        'messages': [\n",
    "            {\n",
    "                'contentType': 'PlainText',\n",
    "                'content': 'Hi. If you want a movie recommendation, ask What is a great movie?'\n",
    "                \n",
    "            },\n",
    "        ],\n",
    "        'maxAttempts': 3\n",
    "    },\n",
    "    abortStatement={\n",
    "        'messages': [\n",
    "            {\n",
    "                'contentType': 'PlainText',\n",
    "                'content': 'Thanks for using the movie recommender bot. Goodbye!'\n",
    "                \n",
    "            },\n",
    "        ]\n",
    "    },\n",
    "    idleSessionTTLInSeconds=120,\n",
    "    voiceId='Joanna',\n",
    "    processBehavior='BUILD',\n",
    "    locale='en-US',\n",
    "    childDirected=False,\n",
    "    createVersion=False\n",
    ")"
   ]
  },
  {
   "cell_type": "markdown",
   "metadata": {},
   "source": [
    "## Delete resources"
   ]
  },
  {
   "cell_type": "code",
   "execution_count": null,
   "metadata": {},
   "outputs": [],
   "source": [
    "response = client.delete_bot(\n",
    "    name='MovieRecommender'\n",
    ")\n"
   ]
  },
  {
   "cell_type": "code",
   "execution_count": null,
   "metadata": {},
   "outputs": [],
   "source": [
    "response = client.delete_intent(\n",
    "    name='RecommendMovieIntent'\n",
    ")"
   ]
  },
  {
   "cell_type": "code",
   "execution_count": null,
   "metadata": {},
   "outputs": [],
   "source": [
    "response = client.delete_slot_type(\n",
    "    name='watchedMovie'\n",
    ")"
   ]
  }
 ],
 "metadata": {
  "kernelspec": {
   "display_name": "conda_python3",
   "language": "python",
   "name": "conda_python3"
  },
  "language_info": {
   "codemirror_mode": {
    "name": "ipython",
    "version": 3
   },
   "file_extension": ".py",
   "mimetype": "text/x-python",
   "name": "python",
   "nbconvert_exporter": "python",
   "pygments_lexer": "ipython3",
   "version": "3.6.5"
  }
 },
 "nbformat": 4,
 "nbformat_minor": 4
}
